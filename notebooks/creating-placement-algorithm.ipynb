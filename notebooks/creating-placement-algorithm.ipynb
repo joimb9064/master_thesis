{
  "cells": [
    {
      "cell_type": "markdown",
      "metadata": {
        "id": "fX-23Z2KiKVA"
      },
      "source": [
        "# Creating a Placement Algorithm\n",
        "\n",
        "This tutorial demonstrates how we can create a simple placement algorithm on EdgeSimPy.\n",
        "\n",
        "Let's start by importing the EdgeSimPy modules:"
      ]
    },
    {
      "cell_type": "code",
      "execution_count": 1,
      "metadata": {
        "colab": {
          "base_uri": "https://localhost:8080/"
        },
        "id": "wahimcGGiKVJ",
        "outputId": "ccfd18f2-a63c-48f8-d0a8-40b98f81ad2e"
      },
      "outputs": [
        {
          "output_type": "stream",
          "name": "stdout",
          "text": [
            "  Installing build dependencies ... \u001b[?25l\u001b[?25hdone\n",
            "  Getting requirements to build wheel ... \u001b[?25l\u001b[?25hdone\n",
            "  Preparing metadata (pyproject.toml) ... \u001b[?25l\u001b[?25hdone\n",
            "\u001b[2K   \u001b[90m━━━━━━━━━━━━━━━━━━━━━━━━━━━━━━━━━━━━━━━━\u001b[0m \u001b[32m1.9/1.9 MB\u001b[0m \u001b[31m81.7 MB/s\u001b[0m eta \u001b[36m0:00:00\u001b[0m\n",
            "\u001b[2K   \u001b[90m━━━━━━━━━━━━━━━━━━━━━━━━━━━━━━━━━━━━━━━━\u001b[0m \u001b[32m1.8/1.8 MB\u001b[0m \u001b[31m2.1 MB/s\u001b[0m eta \u001b[36m0:00:00\u001b[0m\n",
            "\u001b[2K   \u001b[90m━━━━━━━━━━━━━━━━━━━━━━━━━━━━━━━━━━━━━━━━\u001b[0m \u001b[32m66.4/66.4 kB\u001b[0m \u001b[31m6.8 MB/s\u001b[0m eta \u001b[36m0:00:00\u001b[0m\n",
            "\u001b[?25h  Building wheel for edge_sim_py (pyproject.toml) ... \u001b[?25l\u001b[?25hdone\n",
            "\u001b[31mERROR: pip's dependency resolver does not currently take into account all the packages that are installed. This behaviour is the source of the following dependency conflicts.\n",
            "scikit-image 0.25.1 requires networkx>=3.0, but you have networkx 2.6.2 which is incompatible.\n",
            "torch 2.5.1+cu124 requires nvidia-cublas-cu12==12.4.5.8; platform_system == \"Linux\" and platform_machine == \"x86_64\", but you have nvidia-cublas-cu12 12.5.3.2 which is incompatible.\n",
            "torch 2.5.1+cu124 requires nvidia-cuda-cupti-cu12==12.4.127; platform_system == \"Linux\" and platform_machine == \"x86_64\", but you have nvidia-cuda-cupti-cu12 12.5.82 which is incompatible.\n",
            "torch 2.5.1+cu124 requires nvidia-cuda-nvrtc-cu12==12.4.127; platform_system == \"Linux\" and platform_machine == \"x86_64\", but you have nvidia-cuda-nvrtc-cu12 12.5.82 which is incompatible.\n",
            "torch 2.5.1+cu124 requires nvidia-cuda-runtime-cu12==12.4.127; platform_system == \"Linux\" and platform_machine == \"x86_64\", but you have nvidia-cuda-runtime-cu12 12.5.82 which is incompatible.\n",
            "torch 2.5.1+cu124 requires nvidia-cudnn-cu12==9.1.0.70; platform_system == \"Linux\" and platform_machine == \"x86_64\", but you have nvidia-cudnn-cu12 9.3.0.75 which is incompatible.\n",
            "torch 2.5.1+cu124 requires nvidia-cufft-cu12==11.2.1.3; platform_system == \"Linux\" and platform_machine == \"x86_64\", but you have nvidia-cufft-cu12 11.2.3.61 which is incompatible.\n",
            "torch 2.5.1+cu124 requires nvidia-curand-cu12==10.3.5.147; platform_system == \"Linux\" and platform_machine == \"x86_64\", but you have nvidia-curand-cu12 10.3.6.82 which is incompatible.\n",
            "torch 2.5.1+cu124 requires nvidia-cusolver-cu12==11.6.1.9; platform_system == \"Linux\" and platform_machine == \"x86_64\", but you have nvidia-cusolver-cu12 11.6.3.83 which is incompatible.\n",
            "torch 2.5.1+cu124 requires nvidia-cusparse-cu12==12.3.1.170; platform_system == \"Linux\" and platform_machine == \"x86_64\", but you have nvidia-cusparse-cu12 12.5.1.3 which is incompatible.\n",
            "torch 2.5.1+cu124 requires nvidia-nvjitlink-cu12==12.4.127; platform_system == \"Linux\" and platform_machine == \"x86_64\", but you have nvidia-nvjitlink-cu12 12.5.82 which is incompatible.\n",
            "nx-cugraph-cu12 24.12.0 requires networkx>=3.2, but you have networkx 2.6.2 which is incompatible.\u001b[0m\u001b[31m\n",
            "\u001b[2K     \u001b[90m━━━━━━━━━━━━━━━━━━━━━━━━━━━━━━━━━━━━━━━━\u001b[0m \u001b[32m4.7/4.7 MB\u001b[0m \u001b[31m86.3 MB/s\u001b[0m eta \u001b[36m0:00:00\u001b[0m\n",
            "\u001b[?25h  Installing build dependencies ... \u001b[?25l\u001b[?25hdone\n",
            "  Getting requirements to build wheel ... \u001b[?25l\u001b[?25hcanceled\u001b[31mERROR: Operation cancelled by user\u001b[0m\u001b[31m\n",
            "\u001b[0mEdgeSimPy and dependencies have been successfully installed and imported!\n"
          ]
        }
      ],
      "source": [
        "import sys\n",
        "\n",
        "# Function to check and install required packages\n",
        "def install_edgesimpy():\n",
        "    try:\n",
        "        # Try importing EdgeSimPy and dependencies\n",
        "        from edge_sim_py import *\n",
        "        import networkx as nx\n",
        "        import msgpack\n",
        "        import matplotlib.pyplot as plt\n",
        "        import pandas as pd\n",
        "        import numpy as np\n",
        "        print(\"✅ EdgeSimPy and dependencies are already installed.\")\n",
        "    except ModuleNotFoundError:\n",
        "        print(\"⚠️ EdgeSimPy not found. Installing now...\")\n",
        "\n",
        "        # Fix dependency conflicts before installation\n",
        "        !pip uninstall -y networkx msgpack numpy pandas matplotlib\n",
        "        !pip install -q git+https://github.com/EdgeSimPy/EdgeSimPy.git@v1.1.0\n",
        "\n",
        "        # Reinstall the correct versions of required dependencies\n",
        "        !pip install -q networkx==3.2 msgpack numpy pandas matplotlib\n",
        "\n",
        "        # Refresh imports after installation\n",
        "        try:\n",
        "            from edge_sim_py import *\n",
        "            import networkx as nx\n",
        "            import msgpack\n",
        "            import matplotlib.pyplot as plt\n",
        "            import pandas as pd\n",
        "            import numpy as np\n",
        "            print(\"✅ EdgeSimPy and dependencies have been successfully installed!\")\n",
        "        except ModuleNotFoundError as e:\n",
        "            print(\"❌ Installation failed:\", e)\n",
        "\n",
        "# Run installation function\n",
        "install_edgesimpy()\n"
      ]
    },
    {
      "cell_type": "markdown",
      "metadata": {
        "id": "NrQ0EWOUiKVO"
      },
      "source": [
        "## Implementing the Placement Algorithm\n",
        "\n",
        "In this example, we are going to create a simple placement algorithm that works according to the well-known First-Fit heuristic. In a nutshell, our algorithm will provision each service to the first edge server with available resources to host them."
      ]
    },
    {
      "cell_type": "code",
      "execution_count": null,
      "metadata": {
        "id": "rsa4qO7fiKVQ"
      },
      "outputs": [],
      "source": [
        "def my_algorithm(parameters):\n",
        "    # We can always call the 'all()' method to get a list with all created instances of a given class\n",
        "    for service in Service.all():\n",
        "        # We don't want to migrate services are are already being migrated\n",
        "        if service.server == None and not service.being_provisioned:\n",
        "\n",
        "            # Let's iterate over the list of edge servers to find a suitable host for our service\n",
        "            for edge_server in EdgeServer.all():\n",
        "\n",
        "                # We must check if the edge server has enough resources to host the service\n",
        "                if edge_server.has_capacity_to_host(service=service):\n",
        "\n",
        "                    # Start provisioning the service in the edge server\n",
        "                    service.provision(target_server=edge_server)\n",
        "\n",
        "                    # After start migrating the service we can move on to the next service\n",
        "                    break"
      ]
    },
    {
      "cell_type": "markdown",
      "metadata": {
        "id": "v9lptulqiKVS"
      },
      "source": [
        "## Running the Simulation\n",
        "\n",
        "As we're creating a placement algorithm, we must instruct EdgeSimPy that it needs to continue the simulation until all services are provisioned within the infrastructure.\n",
        "\n",
        "To do so, let's create a simple function that will be used as the simulation's stopping criterion. EdgeSimPy will run that function at the end of each time step, halting the simulation as soon as it returns `True`."
      ]
    },
    {
      "cell_type": "code",
      "execution_count": null,
      "metadata": {
        "id": "jjGrTi0SiKVU"
      },
      "outputs": [],
      "source": [
        "def stopping_criterion(model: object):\n",
        "    # Defining a variable that will help us to count the number of services successfully provisioned within the infrastructure\n",
        "    provisioned_services = 0\n",
        "\n",
        "    # Iterating over the list of services to count the number of services provisioned within the infrastructure\n",
        "    for service in Service.all():\n",
        "\n",
        "        # Initially, services are not hosted by any server (i.e., their \"server\" attribute is None).\n",
        "        # Once that value changes, we know that it has been successfully provisioned inside an edge server.\n",
        "        if service.server != None:\n",
        "            provisioned_services += 1\n",
        "\n",
        "    # As EdgeSimPy will halt the simulation whenever this function returns True, its output will be a boolean expression\n",
        "    # that checks if the number of provisioned services equals to the number of services spawned in our simulation\n",
        "    return provisioned_services == Service.count()"
      ]
    },
    {
      "cell_type": "markdown",
      "metadata": {
        "id": "lkLvglRwiKVW"
      },
      "source": [
        "Once we have our stopping criterion, we can finally run our simulation by creating an instance of the `Simulator` class, loading a dataset, and calling the `run_model()` method."
      ]
    },
    {
      "cell_type": "code",
      "execution_count": null,
      "metadata": {
        "id": "5vix7HTYiKVY"
      },
      "outputs": [],
      "source": [
        "\n",
        "# Creating a Simulator object\n",
        "simulator = Simulator(\n",
        "    tick_duration=1,\n",
        "    tick_unit=\"seconds\",\n",
        "    stopping_criterion=stopping_criterion,\n",
        "    resource_management_algorithm=my_algorithm,\n",
        ")\n",
        "\n",
        "# Loading a sample dataset from GitHub\n",
        "simulator.initialize(input_file=\"https://raw.githubusercontent.com/EdgeSimPy/edgesimpy-tutorials/master/datasets/sample_dataset2.json\")\n",
        "\n",
        "# Executing the simulation\n",
        "simulator.run_model()\n",
        "\n",
        "# Checking the placement output\n",
        "for service in Service.all():\n",
        "    print(f\"{service}. Host: {service.server}\")"
      ]
    }
  ],
  "metadata": {
    "kernelspec": {
      "display_name": "Python 3",
      "name": "python3"
    },
    "language_info": {
      "codemirror_mode": {
        "name": "ipython",
        "version": 3
      },
      "file_extension": ".py",
      "mimetype": "text/x-python",
      "name": "python",
      "nbconvert_exporter": "python",
      "pygments_lexer": "ipython3",
      "version": "3.12.3"
    },
    "orig_nbformat": 4,
    "vscode": {
      "interpreter": {
        "hash": "50cb211c4021f4a25a142368b69ce4d994f94aff73dc90314b4ffb0c06ad024a"
      }
    },
    "colab": {
      "provenance": []
    }
  },
  "nbformat": 4,
  "nbformat_minor": 0
}