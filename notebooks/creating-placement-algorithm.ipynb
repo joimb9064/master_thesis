{
  "cells": [
    {
      "cell_type": "markdown",
      "metadata": {
        "id": "lWa0BvJHEdDb"
      },
      "source": [
        "# Creating a Placement Algorithm\n",
        "\n",
        "This tutorial demonstrates how we can create a simple placement algorithm on EdgeSimPy.\n",
        "\n",
        "Let's start by importing the EdgeSimPy modules:"
      ]
    },
    {
      "cell_type": "code",
      "source": [
        "# First, attempt to install required dependencies\n",
        "try:\n",
        "    # Attempt to import EdgeSimPy and other libraries\n",
        "    import edge_sim_py\n",
        "    import networkx as nx\n",
        "    import matplotlib.pyplot as plt\n",
        "    import pandas as pd\n",
        "    import numpy as np\n",
        "except ModuleNotFoundError:\n",
        "    # If imports fail, install the required packages\n",
        "    !pip install -q git+https://github.com/EdgeSimPy/EdgeSimPy.git@v1.1.0\n",
        "    !pip install -q networkx matplotlib pandas numpy\n",
        "\n",
        "    # Verify installations\n",
        "    import edge_sim_py\n",
        "    import networkx as nx\n",
        "    import matplotlib.pyplot as plt\n",
        "    import pandas as pd\n",
        "    import numpy as np\n",
        "\n",
        "# Standard imports\n",
        "import random\n",
        "from typing import List, Dict\n",
        "\n",
        "# Import EdgeSimPy components\n",
        "from edge_sim_py import *\n",
        "from edgesimpy.components.topology import Topology\n",
        "from edgesimpy.components.scheduler import Scheduler\n",
        "from edgesimpy.components.application import Application\n",
        "from edgesimpy.components.task import Task\n",
        "from edgesimpy.core.simulation import Simulation\n",
        "\n",
        "class CustomTopology(Topology):\n",
        "    \"\"\"\n",
        "    Custom topology creation for the edge computing simulation\n",
        "    \"\"\"\n",
        "    def create_topology(self):\n",
        "        \"\"\"\n",
        "        Create a sample network topology\n",
        "        \"\"\"\n",
        "        # Create a random graph\n",
        "        graph = nx.barabasi_albert_graph(n=10, m=2)\n",
        "\n",
        "        # Add nodes (edge devices and servers)\n",
        "        for node in graph.nodes():\n",
        "            # Randomly assign node types\n",
        "            if random.random() < 0.3:\n",
        "                # Create a server node\n",
        "                server = Server(\n",
        "                    identifier=node,\n",
        "                    model=\"generic_server\",\n",
        "                    ram_capacity=32,  # GB\n",
        "                    storage_capacity=1000,  # GB\n",
        "                    processing_units=8  # CPU cores\n",
        "                )\n",
        "                self.add_node(server)\n",
        "            else:\n",
        "                # Create an edge device\n",
        "                device = Device(\n",
        "                    identifier=node,\n",
        "                    model=\"smartphone\",\n",
        "                    ram_capacity=4,  # GB\n",
        "                    storage_capacity=128,  # GB\n",
        "                    processing_units=4  # CPU cores\n",
        "                )\n",
        "                self.add_node(device)\n",
        "\n",
        "        # Add edges (connections between nodes)\n",
        "        for edge in graph.edges():\n",
        "            self.add_edge(edge[0], edge[1])\n",
        "\n",
        "class CustomScheduler(Scheduler):\n",
        "    \"\"\"\n",
        "    Custom task scheduling strategy\n",
        "    \"\"\"\n",
        "    def schedule(self, task: Task):\n",
        "        \"\"\"\n",
        "        Simple scheduling strategy\n",
        "        \"\"\"\n",
        "        # Find the least loaded server\n",
        "        servers = [node for node in self.topology.nodes if isinstance(node, Server)]\n",
        "        if not servers:\n",
        "            return None\n",
        "\n",
        "        # Select server with least current load\n",
        "        best_server = min(\n",
        "            servers,\n",
        "            key=lambda s: len(s.running_tasks) if hasattr(s, 'running_tasks') else 0\n",
        "        )\n",
        "        return best_server\n",
        "\n",
        "def create_sample_tasks(num_tasks: int = 10) -> List[Task]:\n",
        "    \"\"\"\n",
        "    Generate sample tasks for simulation\n",
        "    \"\"\"\n",
        "    tasks = []\n",
        "    for i in range(num_tasks):\n",
        "        task = Task(\n",
        "            identifier=f\"task_{i}\",\n",
        "            type=\"computation\",\n",
        "            workflow=None,\n",
        "            input_data=random.uniform(0.1, 10),  # MB\n",
        "            output_data=random.uniform(0.1, 10),  # MB\n",
        "            processing_length=random.uniform(100, 1000),  # Million Instructions\n",
        "            deadline=random.uniform(10, 100)  # Time units\n",
        "        )\n",
        "        tasks.append(task)\n",
        "    return tasks\n",
        "\n",
        "def run_simulation():\n",
        "    \"\"\"\n",
        "    Main simulation runner\n",
        "    \"\"\"\n",
        "    # Create simulation components\n",
        "    topology = CustomTopology()\n",
        "    scheduler = CustomScheduler(topology)\n",
        "\n",
        "    # Create tasks\n",
        "    tasks = create_sample_tasks()\n",
        "\n",
        "    # Create application\n",
        "    application = Application(\n",
        "        identifier=\"sample_app\",\n",
        "        tasks=tasks\n",
        "    )\n",
        "\n",
        "    # Setup and run simulation\n",
        "    simulation = Simulation(\n",
        "        topology=topology,\n",
        "        scheduler=scheduler,\n",
        "        applications=[application]\n",
        "    )\n",
        "\n",
        "    # Run the simulation\n",
        "    simulation.run()\n",
        "\n",
        "    # Optional: Collect and print results\n",
        "    print(\"Simulation Completed!\")\n",
        "    print(f\"Total Nodes: {len(topology.nodes)}\")\n",
        "    print(f\"Total Tasks: {len(tasks)}\")\n",
        "\n",
        "    # Visualization can be added here\n",
        "    visualize_topology(topology)\n",
        "\n",
        "def visualize_topology(topology):\n",
        "    \"\"\"\n",
        "    Visualize the network topology\n",
        "    \"\"\"\n",
        "    # Create a graph for visualization\n",
        "    G = nx.Graph()\n",
        "\n",
        "    # Add nodes with color coding\n",
        "    node_colors = []\n",
        "    for node in topology.nodes:\n",
        "        G.add_node(node.identifier)\n",
        "        # Color servers blue, devices green\n",
        "        node_colors.append('blue' if isinstance(node, Server) else 'green')\n",
        "\n",
        "    # Add edges\n",
        "    for u, v in topology.edges():\n",
        "        G.add_edge(u, v)\n",
        "\n",
        "    # Draw the graph\n",
        "    plt.figure(figsize=(10, 6))\n",
        "    nx.draw(\n",
        "        G,\n",
        "        with_labels=True,\n",
        "        node_color=node_colors,\n",
        "        node_size=300,\n",
        "        font_size=8\n",
        "    )\n",
        "    plt.title(\"Edge Computing Network Topology\")\n",
        "    plt.show()\n",
        "\n",
        "def main():\n",
        "    \"\"\"\n",
        "    Main entry point of the script\n",
        "    \"\"\"\n",
        "    try:\n",
        "        run_simulation()\n",
        "    except Exception as e:\n",
        "        print(f\"An error occurred during simulation: {e}\")\n",
        "\n",
        "if __name__ == \"__main__\":\n",
        "    main()\n",
        "\n",
        "# Diagnostic print to verify module installations\n",
        "print(\"All required modules imported successfully!\")"
      ],
      "metadata": {
        "colab": {
          "base_uri": "https://localhost:8080/"
        },
        "id": "90E_iTShFiLr",
        "outputId": "e1b22322-926f-442e-9e04-351a30ab78e3"
      },
      "execution_count": null,
      "outputs": [
        {
          "output_type": "stream",
          "name": "stdout",
          "text": [
            "  Installing build dependencies ... \u001b[?25l\u001b[?25hdone\n",
            "  Getting requirements to build wheel ... \u001b[?25l\u001b[?25hdone\n",
            "  Preparing metadata (pyproject.toml) ... \u001b[?25l\u001b[?25hdone\n",
            "\u001b[2K   \u001b[90m━━━━━━━━━━━━━━━━━━━━━━━━━━━━━━━━━━━━━━━━\u001b[0m \u001b[32m1.9/1.9 MB\u001b[0m \u001b[31m30.0 MB/s\u001b[0m eta \u001b[36m0:00:00\u001b[0m\n",
            "\u001b[2K   \u001b[90m━━━━━━━━━━━━━━━━━━━━━━━━━━━━━━━━━━━━━━━━\u001b[0m \u001b[32m1.8/1.8 MB\u001b[0m \u001b[31m67.1 MB/s\u001b[0m eta \u001b[36m0:00:00\u001b[0m\n",
            "\u001b[2K   \u001b[90m━━━━━━━━━━━━━━━━━━━━━━━━━━━━━━━━━━━━━━━━\u001b[0m \u001b[32m66.4/66.4 kB\u001b[0m \u001b[31m4.7 MB/s\u001b[0m eta \u001b[36m0:00:00\u001b[0m\n",
            "\u001b[?25h  Building wheel for edge_sim_py (pyproject.toml) ... \u001b[?25l\u001b[?25hdone\n"
          ]
        }
      ]
    },
    {
      "cell_type": "markdown",
      "metadata": {
        "id": "2OekA2N9EdDe"
      },
      "source": [
        "## Implementing the Placement Algorithm\n",
        "\n",
        "In this example, we are going to create a simple placement algorithm that works according to the well-known First-Fit heuristic. In a nutshell, our algorithm will provision each service to the first edge server with available resources to host them."
      ]
    },
    {
      "cell_type": "code",
      "execution_count": null,
      "metadata": {
        "id": "YMjHk8QGEdDf"
      },
      "outputs": [],
      "source": [
        "def my_algorithm(parameters):\n",
        "    # We can always call the 'all()' method to get a list with all created instances of a given class\n",
        "    for service in Service.all():\n",
        "        # We don't want to migrate services are are already being migrated\n",
        "        if service.server == None and not service.being_provisioned:\n",
        "\n",
        "            # Let's iterate over the list of edge servers to find a suitable host for our service\n",
        "            for edge_server in EdgeServer.all():\n",
        "\n",
        "                # We must check if the edge server has enough resources to host the service\n",
        "                if edge_server.has_capacity_to_host(service=service):\n",
        "\n",
        "                    # Start provisioning the service in the edge server\n",
        "                    service.provision(target_server=edge_server)\n",
        "\n",
        "                    # After start migrating the service we can move on to the next service\n",
        "                    break"
      ]
    },
    {
      "cell_type": "markdown",
      "metadata": {
        "id": "V-cM8aGFEdDf"
      },
      "source": [
        "## Running the Simulation\n",
        "\n",
        "As we're creating a placement algorithm, we must instruct EdgeSimPy that it needs to continue the simulation until all services are provisioned within the infrastructure.\n",
        "\n",
        "To do so, let's create a simple function that will be used as the simulation's stopping criterion. EdgeSimPy will run that function at the end of each time step, halting the simulation as soon as it returns `True`."
      ]
    },
    {
      "cell_type": "code",
      "execution_count": null,
      "metadata": {
        "id": "1Tl2gzLhEdDf"
      },
      "outputs": [],
      "source": [
        "def stopping_criterion(model: object):\n",
        "    # Defining a variable that will help us to count the number of services successfully provisioned within the infrastructure\n",
        "    provisioned_services = 0\n",
        "\n",
        "    # Iterating over the list of services to count the number of services provisioned within the infrastructure\n",
        "    for service in Service.all():\n",
        "\n",
        "        # Initially, services are not hosted by any server (i.e., their \"server\" attribute is None).\n",
        "        # Once that value changes, we know that it has been successfully provisioned inside an edge server.\n",
        "        if service.server != None:\n",
        "            provisioned_services += 1\n",
        "\n",
        "    # As EdgeSimPy will halt the simulation whenever this function returns True, its output will be a boolean expression\n",
        "    # that checks if the number of provisioned services equals to the number of services spawned in our simulation\n",
        "    return provisioned_services == Service.count()"
      ]
    },
    {
      "cell_type": "markdown",
      "metadata": {
        "id": "S1HSMks9EdDf"
      },
      "source": [
        "Once we have our stopping criterion, we can finally run our simulation by creating an instance of the `Simulator` class, loading a dataset, and calling the `run_model()` method."
      ]
    },
    {
      "cell_type": "code",
      "execution_count": null,
      "metadata": {
        "id": "hShU1WhxEdDg"
      },
      "outputs": [],
      "source": [
        "\n",
        "# Creating a Simulator object\n",
        "simulator = Simulator(\n",
        "    tick_duration=1,\n",
        "    tick_unit=\"seconds\",\n",
        "    stopping_criterion=stopping_criterion,\n",
        "    resource_management_algorithm=my_algorithm,\n",
        ")\n",
        "\n",
        "# Loading a sample dataset from GitHub\n",
        "simulator.initialize(input_file=\"https://raw.githubusercontent.com/EdgeSimPy/edgesimpy-tutorials/master/datasets/sample_dataset2.json\")\n",
        "\n",
        "# Executing the simulation\n",
        "simulator.run_model()\n",
        "\n",
        "# Checking the placement output\n",
        "for service in Service.all():\n",
        "    print(f\"{service}. Host: {service.server}\")"
      ]
    }
  ],
  "metadata": {
    "kernelspec": {
      "display_name": "Python 3.10.4 ('edgesimpy-tutorials-QsXmQ38W-py3.10')",
      "language": "python",
      "name": "python3"
    },
    "language_info": {
      "codemirror_mode": {
        "name": "ipython",
        "version": 3
      },
      "file_extension": ".py",
      "mimetype": "text/x-python",
      "name": "python",
      "nbconvert_exporter": "python",
      "pygments_lexer": "ipython3",
      "version": "3.12.3"
    },
    "orig_nbformat": 4,
    "vscode": {
      "interpreter": {
        "hash": "50cb211c4021f4a25a142368b69ce4d994f94aff73dc90314b4ffb0c06ad024a"
      }
    },
    "colab": {
      "provenance": []
    }
  },
  "nbformat": 4,
  "nbformat_minor": 0
}